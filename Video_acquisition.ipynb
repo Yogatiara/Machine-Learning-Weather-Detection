{
 "cells": [
  {
   "cell_type": "code",
   "execution_count": 5,
   "metadata": {},
   "outputs": [],
   "source": [
    "import cv2"
   ]
  },
  {
   "cell_type": "code",
   "execution_count": 6,
   "metadata": {},
   "outputs": [],
   "source": [
    "video_capture = cv2.VideoCapture(\"./Sky_video/video1.mp4\")\n",
    "\n",
    "frame = 1\n",
    "\n",
    "while (True):\n",
    "  ret, video_frame = video_capture.read()\n",
    "\n",
    "  if ret:\n",
    "    cv2.imwrite(f\"D:\\\\Kuliah\\\\Kampus\\\\Mata kuliah\\\\Semester 6\\\\ML\\\\TUBES\\\\Machine-Learning-Weather-Detection\\\\Testing_Weather_Dataset\\\\Frame_{frame}.jpg\", video_frame)\n",
    "\n",
    "  else:\n",
    "    break\n",
    "  frame += 1\n",
    "\n",
    "video_capture.release()"
   ]
  }
 ],
 "metadata": {
  "kernelspec": {
   "display_name": "Python 3",
   "language": "python",
   "name": "python3"
  },
  "language_info": {
   "codemirror_mode": {
    "name": "ipython",
    "version": 3
   },
   "file_extension": ".py",
   "mimetype": "text/x-python",
   "name": "python",
   "nbconvert_exporter": "python",
   "pygments_lexer": "ipython3",
   "version": "3.12.1"
  }
 },
 "nbformat": 4,
 "nbformat_minor": 2
}
